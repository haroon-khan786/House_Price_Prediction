{
 "cells": [
  {
   "cell_type": "markdown",
   "id": "54752667",
   "metadata": {},
   "source": [
    "# Regression Models"
   ]
  },
  {
   "cell_type": "code",
   "execution_count": 2,
   "id": "fe25a39b",
   "metadata": {},
   "outputs": [],
   "source": [
    "import pandas as pd\n",
    "from datetime import datetime\n",
    "\n",
    "# Load dataset\n",
    "data = pd.read_csv('HousingDataSet.csv')  # Load your dataset"
   ]
  },
  {
   "cell_type": "markdown",
   "id": "1e538bf4",
   "metadata": {},
   "source": [
    "# Features Creation"
   ]
  },
  {
   "cell_type": "code",
   "execution_count": 3,
   "id": "1e0e0c3e",
   "metadata": {},
   "outputs": [
    {
     "ename": "KeyError",
     "evalue": "'yr_built'",
     "output_type": "error",
     "traceback": [
      "\u001b[1;31m---------------------------------------------------------------------------\u001b[0m",
      "\u001b[1;31mKeyError\u001b[0m                                  Traceback (most recent call last)",
      "File \u001b[1;32m~\\AppData\\Local\\Programs\\Python\\Python313\\Lib\\site-packages\\pandas\\core\\indexes\\base.py:3805\u001b[0m, in \u001b[0;36mIndex.get_loc\u001b[1;34m(self, key)\u001b[0m\n\u001b[0;32m   3804\u001b[0m \u001b[38;5;28;01mtry\u001b[39;00m:\n\u001b[1;32m-> 3805\u001b[0m     \u001b[38;5;28;01mreturn\u001b[39;00m \u001b[38;5;28;43mself\u001b[39;49m\u001b[38;5;241;43m.\u001b[39;49m\u001b[43m_engine\u001b[49m\u001b[38;5;241;43m.\u001b[39;49m\u001b[43mget_loc\u001b[49m\u001b[43m(\u001b[49m\u001b[43mcasted_key\u001b[49m\u001b[43m)\u001b[49m\n\u001b[0;32m   3806\u001b[0m \u001b[38;5;28;01mexcept\u001b[39;00m \u001b[38;5;167;01mKeyError\u001b[39;00m \u001b[38;5;28;01mas\u001b[39;00m err:\n",
      "File \u001b[1;32mindex.pyx:167\u001b[0m, in \u001b[0;36mpandas._libs.index.IndexEngine.get_loc\u001b[1;34m()\u001b[0m\n",
      "File \u001b[1;32mindex.pyx:196\u001b[0m, in \u001b[0;36mpandas._libs.index.IndexEngine.get_loc\u001b[1;34m()\u001b[0m\n",
      "File \u001b[1;32mpandas\\\\_libs\\\\hashtable_class_helper.pxi:7081\u001b[0m, in \u001b[0;36mpandas._libs.hashtable.PyObjectHashTable.get_item\u001b[1;34m()\u001b[0m\n",
      "File \u001b[1;32mpandas\\\\_libs\\\\hashtable_class_helper.pxi:7089\u001b[0m, in \u001b[0;36mpandas._libs.hashtable.PyObjectHashTable.get_item\u001b[1;34m()\u001b[0m\n",
      "\u001b[1;31mKeyError\u001b[0m: 'yr_built'",
      "\nThe above exception was the direct cause of the following exception:\n",
      "\u001b[1;31mKeyError\u001b[0m                                  Traceback (most recent call last)",
      "Cell \u001b[1;32mIn[3], line 6\u001b[0m\n\u001b[0;32m      3\u001b[0m data[\u001b[38;5;124m'\u001b[39m\u001b[38;5;124mTotal_Area\u001b[39m\u001b[38;5;124m'\u001b[39m] \u001b[38;5;241m=\u001b[39m data[\u001b[38;5;124m'\u001b[39m\u001b[38;5;124msqft_living\u001b[39m\u001b[38;5;124m'\u001b[39m] \u001b[38;5;241m+\u001b[39m data[\u001b[38;5;124m'\u001b[39m\u001b[38;5;124msqft_basement\u001b[39m\u001b[38;5;124m'\u001b[39m]\n\u001b[0;32m      5\u001b[0m \u001b[38;5;66;03m# Create a new feature 'House_Age' by subtracting 'Year_Built' from the current year\u001b[39;00m\n\u001b[1;32m----> 6\u001b[0m data[\u001b[38;5;124m'\u001b[39m\u001b[38;5;124mHouse_Age\u001b[39m\u001b[38;5;124m'\u001b[39m] \u001b[38;5;241m=\u001b[39m datetime\u001b[38;5;241m.\u001b[39mnow()\u001b[38;5;241m.\u001b[39myear \u001b[38;5;241m-\u001b[39m \u001b[43mdata\u001b[49m\u001b[43m[\u001b[49m\u001b[38;5;124;43m'\u001b[39;49m\u001b[38;5;124;43myr_built\u001b[39;49m\u001b[38;5;124;43m'\u001b[39;49m\u001b[43m]\u001b[49m\n\u001b[0;32m      7\u001b[0m \u001b[38;5;66;03m#print(data.head()) print 4 rows\u001b[39;00m\n",
      "File \u001b[1;32m~\\AppData\\Local\\Programs\\Python\\Python313\\Lib\\site-packages\\pandas\\core\\frame.py:4102\u001b[0m, in \u001b[0;36mDataFrame.__getitem__\u001b[1;34m(self, key)\u001b[0m\n\u001b[0;32m   4100\u001b[0m \u001b[38;5;28;01mif\u001b[39;00m \u001b[38;5;28mself\u001b[39m\u001b[38;5;241m.\u001b[39mcolumns\u001b[38;5;241m.\u001b[39mnlevels \u001b[38;5;241m>\u001b[39m \u001b[38;5;241m1\u001b[39m:\n\u001b[0;32m   4101\u001b[0m     \u001b[38;5;28;01mreturn\u001b[39;00m \u001b[38;5;28mself\u001b[39m\u001b[38;5;241m.\u001b[39m_getitem_multilevel(key)\n\u001b[1;32m-> 4102\u001b[0m indexer \u001b[38;5;241m=\u001b[39m \u001b[38;5;28;43mself\u001b[39;49m\u001b[38;5;241;43m.\u001b[39;49m\u001b[43mcolumns\u001b[49m\u001b[38;5;241;43m.\u001b[39;49m\u001b[43mget_loc\u001b[49m\u001b[43m(\u001b[49m\u001b[43mkey\u001b[49m\u001b[43m)\u001b[49m\n\u001b[0;32m   4103\u001b[0m \u001b[38;5;28;01mif\u001b[39;00m is_integer(indexer):\n\u001b[0;32m   4104\u001b[0m     indexer \u001b[38;5;241m=\u001b[39m [indexer]\n",
      "File \u001b[1;32m~\\AppData\\Local\\Programs\\Python\\Python313\\Lib\\site-packages\\pandas\\core\\indexes\\base.py:3812\u001b[0m, in \u001b[0;36mIndex.get_loc\u001b[1;34m(self, key)\u001b[0m\n\u001b[0;32m   3807\u001b[0m     \u001b[38;5;28;01mif\u001b[39;00m \u001b[38;5;28misinstance\u001b[39m(casted_key, \u001b[38;5;28mslice\u001b[39m) \u001b[38;5;129;01mor\u001b[39;00m (\n\u001b[0;32m   3808\u001b[0m         \u001b[38;5;28misinstance\u001b[39m(casted_key, abc\u001b[38;5;241m.\u001b[39mIterable)\n\u001b[0;32m   3809\u001b[0m         \u001b[38;5;129;01mand\u001b[39;00m \u001b[38;5;28many\u001b[39m(\u001b[38;5;28misinstance\u001b[39m(x, \u001b[38;5;28mslice\u001b[39m) \u001b[38;5;28;01mfor\u001b[39;00m x \u001b[38;5;129;01min\u001b[39;00m casted_key)\n\u001b[0;32m   3810\u001b[0m     ):\n\u001b[0;32m   3811\u001b[0m         \u001b[38;5;28;01mraise\u001b[39;00m InvalidIndexError(key)\n\u001b[1;32m-> 3812\u001b[0m     \u001b[38;5;28;01mraise\u001b[39;00m \u001b[38;5;167;01mKeyError\u001b[39;00m(key) \u001b[38;5;28;01mfrom\u001b[39;00m \u001b[38;5;21;01merr\u001b[39;00m\n\u001b[0;32m   3813\u001b[0m \u001b[38;5;28;01mexcept\u001b[39;00m \u001b[38;5;167;01mTypeError\u001b[39;00m:\n\u001b[0;32m   3814\u001b[0m     \u001b[38;5;66;03m# If we have a listlike key, _check_indexing_error will raise\u001b[39;00m\n\u001b[0;32m   3815\u001b[0m     \u001b[38;5;66;03m#  InvalidIndexError. Otherwise we fall through and re-raise\u001b[39;00m\n\u001b[0;32m   3816\u001b[0m     \u001b[38;5;66;03m#  the TypeError.\u001b[39;00m\n\u001b[0;32m   3817\u001b[0m     \u001b[38;5;28mself\u001b[39m\u001b[38;5;241m.\u001b[39m_check_indexing_error(key)\n",
      "\u001b[1;31mKeyError\u001b[0m: 'yr_built'"
     ]
    }
   ],
   "source": [
    "# Feature Creation\n",
    "# Create a new feature 'Total_Area' by summing 'Living_Area' and 'Basement_Area'\n",
    "data['Total_Area'] = data['sqft_living'] + data['sqft_basement']\n",
    "\n",
    "# Create a new feature 'House_Age' by subtracting 'Year_Built' from the current year\n",
    "data['House_Age'] = datetime.now().year - data['yr_built']\n",
    "#print(data.head()) print 4 rows"
   ]
  },
  {
   "cell_type": "markdown",
   "id": "0d809531",
   "metadata": {},
   "source": [
    "# Filling Missing Values"
   ]
  },
  {
   "cell_type": "code",
   "execution_count": 4,
   "id": "725932a5",
   "metadata": {},
   "outputs": [
    {
     "name": "stderr",
     "output_type": "stream",
     "text": [
      "C:\\Users\\Fardin\\AppData\\Local\\Temp\\ipykernel_9088\\881628944.py:12: FutureWarning: A value is trying to be set on a copy of a DataFrame or Series through chained assignment using an inplace method.\n",
      "The behavior will change in pandas 3.0. This inplace method will never work because the intermediate object on which we are setting values always behaves as a copy.\n",
      "\n",
      "For example, when doing 'df[col].method(value, inplace=True)', try using 'df.method({col: value}, inplace=True)' or df[col] = df[col].method(value) instead, to perform the operation inplace on the original object.\n",
      "\n",
      "\n",
      "  dataframe[column].fillna(mean_value, inplace=True)  # Fill with mean\n"
     ]
    }
   ],
   "source": [
    "import pandas as pd\n",
    "\n",
    "# Assuming your DataFrame is named 'data'\n",
    "# Function to fill missing values\n",
    "def fill_missing_values(dataframe):\n",
    "    for column in dataframe.columns:\n",
    "        if dataframe[column].dtype == 'object':  # Categorical variable\n",
    "            mode_value = dataframe[column].mode()[0]  # Get the mode\n",
    "            dataframe[column].fillna(mode_value, inplace=True)  # Fill with mode\n",
    "        else:  # Numeric variable\n",
    "            mean_value = dataframe[column].mean()  # Get the mean\n",
    "            dataframe[column].fillna(mean_value, inplace=True)  # Fill with mean\n",
    "\n",
    "# Fill missing values in the DataFrame\n",
    "fill_missing_values(data)\n"
   ]
  },
  {
   "cell_type": "code",
   "execution_count": 5,
   "id": "fa6545cd",
   "metadata": {},
   "outputs": [
    {
     "data": {
      "text/plain": [
       "Index(['price', 'bedrooms', 'bathrooms', 'sqft_living', 'sqft_lot', 'floors',\n",
       "       'waterfront', 'view', 'condition', 'grade', 'sqft_above',\n",
       "       'sqft_basement', 'zipcode', 'lat', 'long', 'sqft_living15',\n",
       "       'sqft_lot15', 'Total_Area'],\n",
       "      dtype='object')"
      ]
     },
     "execution_count": 5,
     "metadata": {},
     "output_type": "execute_result"
    }
   ],
   "source": [
    "data.columns"
   ]
  },
  {
   "cell_type": "code",
   "execution_count": 6,
   "id": "ab9e2824",
   "metadata": {},
   "outputs": [
    {
     "ename": "KeyError",
     "evalue": "\"['id', 'date'] not found in axis\"",
     "output_type": "error",
     "traceback": [
      "\u001b[1;31m---------------------------------------------------------------------------\u001b[0m",
      "\u001b[1;31mKeyError\u001b[0m                                  Traceback (most recent call last)",
      "Cell \u001b[1;32mIn[6], line 6\u001b[0m\n\u001b[0;32m      3\u001b[0m \u001b[38;5;66;03m# Step 1: Separate input features and target variable\u001b[39;00m\n\u001b[0;32m      4\u001b[0m \u001b[38;5;66;03m# Define the target variable 'price' and input features\u001b[39;00m\n\u001b[0;32m      5\u001b[0m target_variable \u001b[38;5;241m=\u001b[39m data[\u001b[38;5;124m'\u001b[39m\u001b[38;5;124mprice\u001b[39m\u001b[38;5;124m'\u001b[39m]  \u001b[38;5;66;03m# This extracts the 'price' column as the target variable\u001b[39;00m\n\u001b[1;32m----> 6\u001b[0m input_features \u001b[38;5;241m=\u001b[39m \u001b[43mdata\u001b[49m\u001b[38;5;241;43m.\u001b[39;49m\u001b[43mdrop\u001b[49m\u001b[43m(\u001b[49m\u001b[43mcolumns\u001b[49m\u001b[38;5;241;43m=\u001b[39;49m\u001b[43m[\u001b[49m\u001b[38;5;124;43m'\u001b[39;49m\u001b[38;5;124;43mprice\u001b[39;49m\u001b[38;5;124;43m'\u001b[39;49m\u001b[43m,\u001b[49m\u001b[43m \u001b[49m\u001b[38;5;124;43m'\u001b[39;49m\u001b[38;5;124;43mid\u001b[39;49m\u001b[38;5;124;43m'\u001b[39;49m\u001b[43m,\u001b[49m\u001b[43m \u001b[49m\u001b[38;5;124;43m'\u001b[39;49m\u001b[38;5;124;43mdate\u001b[39;49m\u001b[38;5;124;43m'\u001b[39;49m\u001b[43m]\u001b[49m\u001b[43m)\u001b[49m  \u001b[38;5;66;03m# Drop 'price', 'id', and 'date' from features\u001b[39;00m\n\u001b[0;32m      8\u001b[0m \u001b[38;5;66;03m# Step 2: Select relevant features for PCA\u001b[39;00m\n\u001b[0;32m      9\u001b[0m features_for_pca \u001b[38;5;241m=\u001b[39m input_features[[\u001b[38;5;124m'\u001b[39m\u001b[38;5;124mbedrooms\u001b[39m\u001b[38;5;124m'\u001b[39m, \u001b[38;5;124m'\u001b[39m\u001b[38;5;124mbathrooms\u001b[39m\u001b[38;5;124m'\u001b[39m]]  \u001b[38;5;66;03m# Select relevant features for PCA\u001b[39;00m\n",
      "File \u001b[1;32m~\\AppData\\Local\\Programs\\Python\\Python313\\Lib\\site-packages\\pandas\\core\\frame.py:5581\u001b[0m, in \u001b[0;36mDataFrame.drop\u001b[1;34m(self, labels, axis, index, columns, level, inplace, errors)\u001b[0m\n\u001b[0;32m   5433\u001b[0m \u001b[38;5;28;01mdef\u001b[39;00m \u001b[38;5;21mdrop\u001b[39m(\n\u001b[0;32m   5434\u001b[0m     \u001b[38;5;28mself\u001b[39m,\n\u001b[0;32m   5435\u001b[0m     labels: IndexLabel \u001b[38;5;241m|\u001b[39m \u001b[38;5;28;01mNone\u001b[39;00m \u001b[38;5;241m=\u001b[39m \u001b[38;5;28;01mNone\u001b[39;00m,\n\u001b[1;32m   (...)\u001b[0m\n\u001b[0;32m   5442\u001b[0m     errors: IgnoreRaise \u001b[38;5;241m=\u001b[39m \u001b[38;5;124m\"\u001b[39m\u001b[38;5;124mraise\u001b[39m\u001b[38;5;124m\"\u001b[39m,\n\u001b[0;32m   5443\u001b[0m ) \u001b[38;5;241m-\u001b[39m\u001b[38;5;241m>\u001b[39m DataFrame \u001b[38;5;241m|\u001b[39m \u001b[38;5;28;01mNone\u001b[39;00m:\n\u001b[0;32m   5444\u001b[0m \u001b[38;5;250m    \u001b[39m\u001b[38;5;124;03m\"\"\"\u001b[39;00m\n\u001b[0;32m   5445\u001b[0m \u001b[38;5;124;03m    Drop specified labels from rows or columns.\u001b[39;00m\n\u001b[0;32m   5446\u001b[0m \n\u001b[1;32m   (...)\u001b[0m\n\u001b[0;32m   5579\u001b[0m \u001b[38;5;124;03m            weight  1.0     0.8\u001b[39;00m\n\u001b[0;32m   5580\u001b[0m \u001b[38;5;124;03m    \"\"\"\u001b[39;00m\n\u001b[1;32m-> 5581\u001b[0m     \u001b[38;5;28;01mreturn\u001b[39;00m \u001b[38;5;28;43msuper\u001b[39;49m\u001b[43m(\u001b[49m\u001b[43m)\u001b[49m\u001b[38;5;241;43m.\u001b[39;49m\u001b[43mdrop\u001b[49m\u001b[43m(\u001b[49m\n\u001b[0;32m   5582\u001b[0m \u001b[43m        \u001b[49m\u001b[43mlabels\u001b[49m\u001b[38;5;241;43m=\u001b[39;49m\u001b[43mlabels\u001b[49m\u001b[43m,\u001b[49m\n\u001b[0;32m   5583\u001b[0m \u001b[43m        \u001b[49m\u001b[43maxis\u001b[49m\u001b[38;5;241;43m=\u001b[39;49m\u001b[43maxis\u001b[49m\u001b[43m,\u001b[49m\n\u001b[0;32m   5584\u001b[0m \u001b[43m        \u001b[49m\u001b[43mindex\u001b[49m\u001b[38;5;241;43m=\u001b[39;49m\u001b[43mindex\u001b[49m\u001b[43m,\u001b[49m\n\u001b[0;32m   5585\u001b[0m \u001b[43m        \u001b[49m\u001b[43mcolumns\u001b[49m\u001b[38;5;241;43m=\u001b[39;49m\u001b[43mcolumns\u001b[49m\u001b[43m,\u001b[49m\n\u001b[0;32m   5586\u001b[0m \u001b[43m        \u001b[49m\u001b[43mlevel\u001b[49m\u001b[38;5;241;43m=\u001b[39;49m\u001b[43mlevel\u001b[49m\u001b[43m,\u001b[49m\n\u001b[0;32m   5587\u001b[0m \u001b[43m        \u001b[49m\u001b[43minplace\u001b[49m\u001b[38;5;241;43m=\u001b[39;49m\u001b[43minplace\u001b[49m\u001b[43m,\u001b[49m\n\u001b[0;32m   5588\u001b[0m \u001b[43m        \u001b[49m\u001b[43merrors\u001b[49m\u001b[38;5;241;43m=\u001b[39;49m\u001b[43merrors\u001b[49m\u001b[43m,\u001b[49m\n\u001b[0;32m   5589\u001b[0m \u001b[43m    \u001b[49m\u001b[43m)\u001b[49m\n",
      "File \u001b[1;32m~\\AppData\\Local\\Programs\\Python\\Python313\\Lib\\site-packages\\pandas\\core\\generic.py:4788\u001b[0m, in \u001b[0;36mNDFrame.drop\u001b[1;34m(self, labels, axis, index, columns, level, inplace, errors)\u001b[0m\n\u001b[0;32m   4786\u001b[0m \u001b[38;5;28;01mfor\u001b[39;00m axis, labels \u001b[38;5;129;01min\u001b[39;00m axes\u001b[38;5;241m.\u001b[39mitems():\n\u001b[0;32m   4787\u001b[0m     \u001b[38;5;28;01mif\u001b[39;00m labels \u001b[38;5;129;01mis\u001b[39;00m \u001b[38;5;129;01mnot\u001b[39;00m \u001b[38;5;28;01mNone\u001b[39;00m:\n\u001b[1;32m-> 4788\u001b[0m         obj \u001b[38;5;241m=\u001b[39m \u001b[43mobj\u001b[49m\u001b[38;5;241;43m.\u001b[39;49m\u001b[43m_drop_axis\u001b[49m\u001b[43m(\u001b[49m\u001b[43mlabels\u001b[49m\u001b[43m,\u001b[49m\u001b[43m \u001b[49m\u001b[43maxis\u001b[49m\u001b[43m,\u001b[49m\u001b[43m \u001b[49m\u001b[43mlevel\u001b[49m\u001b[38;5;241;43m=\u001b[39;49m\u001b[43mlevel\u001b[49m\u001b[43m,\u001b[49m\u001b[43m \u001b[49m\u001b[43merrors\u001b[49m\u001b[38;5;241;43m=\u001b[39;49m\u001b[43merrors\u001b[49m\u001b[43m)\u001b[49m\n\u001b[0;32m   4790\u001b[0m \u001b[38;5;28;01mif\u001b[39;00m inplace:\n\u001b[0;32m   4791\u001b[0m     \u001b[38;5;28mself\u001b[39m\u001b[38;5;241m.\u001b[39m_update_inplace(obj)\n",
      "File \u001b[1;32m~\\AppData\\Local\\Programs\\Python\\Python313\\Lib\\site-packages\\pandas\\core\\generic.py:4830\u001b[0m, in \u001b[0;36mNDFrame._drop_axis\u001b[1;34m(self, labels, axis, level, errors, only_slice)\u001b[0m\n\u001b[0;32m   4828\u001b[0m         new_axis \u001b[38;5;241m=\u001b[39m axis\u001b[38;5;241m.\u001b[39mdrop(labels, level\u001b[38;5;241m=\u001b[39mlevel, errors\u001b[38;5;241m=\u001b[39merrors)\n\u001b[0;32m   4829\u001b[0m     \u001b[38;5;28;01melse\u001b[39;00m:\n\u001b[1;32m-> 4830\u001b[0m         new_axis \u001b[38;5;241m=\u001b[39m \u001b[43maxis\u001b[49m\u001b[38;5;241;43m.\u001b[39;49m\u001b[43mdrop\u001b[49m\u001b[43m(\u001b[49m\u001b[43mlabels\u001b[49m\u001b[43m,\u001b[49m\u001b[43m \u001b[49m\u001b[43merrors\u001b[49m\u001b[38;5;241;43m=\u001b[39;49m\u001b[43merrors\u001b[49m\u001b[43m)\u001b[49m\n\u001b[0;32m   4831\u001b[0m     indexer \u001b[38;5;241m=\u001b[39m axis\u001b[38;5;241m.\u001b[39mget_indexer(new_axis)\n\u001b[0;32m   4833\u001b[0m \u001b[38;5;66;03m# Case for non-unique axis\u001b[39;00m\n\u001b[0;32m   4834\u001b[0m \u001b[38;5;28;01melse\u001b[39;00m:\n",
      "File \u001b[1;32m~\\AppData\\Local\\Programs\\Python\\Python313\\Lib\\site-packages\\pandas\\core\\indexes\\base.py:7070\u001b[0m, in \u001b[0;36mIndex.drop\u001b[1;34m(self, labels, errors)\u001b[0m\n\u001b[0;32m   7068\u001b[0m \u001b[38;5;28;01mif\u001b[39;00m mask\u001b[38;5;241m.\u001b[39many():\n\u001b[0;32m   7069\u001b[0m     \u001b[38;5;28;01mif\u001b[39;00m errors \u001b[38;5;241m!=\u001b[39m \u001b[38;5;124m\"\u001b[39m\u001b[38;5;124mignore\u001b[39m\u001b[38;5;124m\"\u001b[39m:\n\u001b[1;32m-> 7070\u001b[0m         \u001b[38;5;28;01mraise\u001b[39;00m \u001b[38;5;167;01mKeyError\u001b[39;00m(\u001b[38;5;124mf\u001b[39m\u001b[38;5;124m\"\u001b[39m\u001b[38;5;132;01m{\u001b[39;00mlabels[mask]\u001b[38;5;241m.\u001b[39mtolist()\u001b[38;5;132;01m}\u001b[39;00m\u001b[38;5;124m not found in axis\u001b[39m\u001b[38;5;124m\"\u001b[39m)\n\u001b[0;32m   7071\u001b[0m     indexer \u001b[38;5;241m=\u001b[39m indexer[\u001b[38;5;241m~\u001b[39mmask]\n\u001b[0;32m   7072\u001b[0m \u001b[38;5;28;01mreturn\u001b[39;00m \u001b[38;5;28mself\u001b[39m\u001b[38;5;241m.\u001b[39mdelete(indexer)\n",
      "\u001b[1;31mKeyError\u001b[0m: \"['id', 'date'] not found in axis\""
     ]
    }
   ],
   "source": [
    "import pandas as pd\n",
    "from sklearn.decomposition import PCA\n",
    "# Step 1: Separate input features and target variable\n",
    "# Define the target variable 'price' and input features\n",
    "target_variable = data['price']  # This extracts the 'price' column as the target variable\n",
    "input_features = data.drop(columns=['price', 'id', 'date'])  # Drop 'price', 'id', and 'date' from features\n",
    "\n",
    "# Step 2: Select relevant features for PCA\n",
    "features_for_pca = input_features[['bedrooms', 'bathrooms']]  # Select relevant features for PCA\n",
    "\n",
    "# Step 3: Initialize PCA to reduce dimensions\n",
    "pca = PCA(n_components=1)  # Keep 1 principal component\n",
    "extracted_features = pca.fit_transform(features_for_pca)  # Apply PCA to the features\n",
    "\n",
    "# Step 4: Create a DataFrame from the extracted features\n",
    "extracted_df = pd.DataFrame(extracted_features, columns=['PC1'])  # Name the principal component 'PC1'\n",
    "\n",
    "# Step 5: Drop the original features used in PCA and append the new PCA component\n",
    "input_features = input_features.drop(columns=['bedrooms', 'bathrooms'])  # Drop the original input features used in PCA\n",
    "input_features = pd.concat([input_features, extracted_df], axis=1)  # Append the new principal component to the input features\n",
    "\n",
    "# Step 6: Display the updated input features and target variable\n",
    "print(\"Input Features:\")\n",
    "print(input_features.head())  # Display the first few rows of the updated input features\n",
    "print(\"\\nTarget Variable:\")\n",
    "print(target_variable.head())  # Display the first few rows of the target variable\n"
   ]
  },
  {
   "cell_type": "code",
   "execution_count": 6,
   "id": "fcc82033",
   "metadata": {},
   "outputs": [
    {
     "name": "stdout",
     "output_type": "stream",
     "text": [
      "No missing values found in the DataFrame.\n"
     ]
    }
   ],
   "source": [
    "import pandas as pd\n",
    "\n",
    "# Assuming your DataFrame is named 'data'\n",
    "# Check for missing values\n",
    "def check_missing_values(dataframe):\n",
    "    # Check for missing values in the DataFrame\n",
    "    missing_values = dataframe.isnull().sum()\n",
    "    \n",
    "    # Filter columns that have missing values\n",
    "    missing_values = missing_values[missing_values > 0]\n",
    "    \n",
    "    if missing_values.empty:\n",
    "        print(\"No missing values found in the DataFrame.\")\n",
    "    else:\n",
    "        print(\"Missing values found in the following columns:\")\n",
    "        print(missing_values)\n",
    "\n",
    "# Check for missing values in the DataFrame\n",
    "check_missing_values(data)\n"
   ]
  },
  {
   "cell_type": "code",
   "execution_count": null,
   "id": "9cc5b025",
   "metadata": {},
   "outputs": [],
   "source": []
  },
  {
   "cell_type": "markdown",
   "id": "1d9cd13e",
   "metadata": {},
   "source": [
    "# coverting the catorical variable ocean_proximity to binary before scaling"
   ]
  },
  {
   "cell_type": "markdown",
   "id": "20201d6b",
   "metadata": {},
   "source": [
    "# One-Hot Encoding for a nominal variable"
   ]
  },
  {
   "cell_type": "code",
   "execution_count": 7,
   "id": "0b11f0ed",
   "metadata": {},
   "outputs": [
    {
     "ename": "NameError",
     "evalue": "name 'input_features' is not defined",
     "output_type": "error",
     "traceback": [
      "\u001b[1;31m---------------------------------------------------------------------------\u001b[0m",
      "\u001b[1;31mNameError\u001b[0m                                 Traceback (most recent call last)",
      "Cell \u001b[1;32mIn[7], line 2\u001b[0m\n\u001b[0;32m      1\u001b[0m \u001b[38;5;66;03m# One-Hot Encoding for a nominal variable\u001b[39;00m\n\u001b[1;32m----> 2\u001b[0m input_features \u001b[38;5;241m=\u001b[39m pd\u001b[38;5;241m.\u001b[39mget_dummies(\u001b[43minput_features\u001b[49m, columns\u001b[38;5;241m=\u001b[39m[\u001b[38;5;124m'\u001b[39m\u001b[38;5;124mocean_proximity\u001b[39m\u001b[38;5;124m'\u001b[39m])  \n\u001b[0;32m      3\u001b[0m \u001b[38;5;66;03m# Create binary columns for each ocean_proximity category\u001b[39;00m\n",
      "\u001b[1;31mNameError\u001b[0m: name 'input_features' is not defined"
     ]
    }
   ],
   "source": [
    "# One-Hot Encoding for a nominal variable\n",
    "input_features = pd.get_dummies(input_features, columns=['ocean_proximity'])  \n",
    "# Create binary columns for each ocean_proximity category"
   ]
  },
  {
   "cell_type": "markdown",
   "id": "2c09028f",
   "metadata": {},
   "source": [
    "# MinMAx Scaling"
   ]
  },
  {
   "cell_type": "code",
   "execution_count": 8,
   "id": "5a6c0028",
   "metadata": {},
   "outputs": [
    {
     "name": "stdout",
     "output_type": "stream",
     "text": [
      "Scaled Input Features:\n",
      "   sqft_living  sqft_lot  floors  waterfront  view  condition     grade  \\\n",
      "0     0.067170  0.003108     0.0         0.0   0.0        0.5  0.500000   \n",
      "1     0.172075  0.004072     0.4         0.0   0.0        0.5  0.500000   \n",
      "2     0.036226  0.005743     0.0         0.0   0.0        0.5  0.416667   \n",
      "3     0.126038  0.002714     0.0         0.0   0.0        1.0  0.500000   \n",
      "4     0.104906  0.004579     0.0         0.0   0.0        0.5  0.583333   \n",
      "\n",
      "   sqft_above  sqft_basement  yr_built  ...  sqft_living15  sqft_lot15  \\\n",
      "0    0.097588       0.000000  0.478261  ...       0.161934    0.005742   \n",
      "1    0.206140       0.082988  0.443478  ...       0.222165    0.008027   \n",
      "2    0.052632       0.000000  0.286957  ...       0.399415    0.008513   \n",
      "3    0.083333       0.188797  0.565217  ...       0.165376    0.004996   \n",
      "4    0.152412       0.000000  0.756522  ...       0.241094    0.007871   \n",
      "\n",
      "   Total_Area  House_Age       PC1  ocean_proximity_<1H OCEAN  \\\n",
      "0    0.051208   0.521739  0.078830                        0.0   \n",
      "1    0.154200   0.556522  0.133534                        0.0   \n",
      "2    0.027618   0.713043  0.078830                        0.0   \n",
      "3    0.148446   0.434783  0.178045                        0.0   \n",
      "4    0.079977   0.243478  0.128438                        0.0   \n",
      "\n",
      "   ocean_proximity_INLAND  ocean_proximity_ISLAND  ocean_proximity_NEAR BAY  \\\n",
      "0                     0.0                     0.0                       1.0   \n",
      "1                     0.0                     0.0                       1.0   \n",
      "2                     0.0                     0.0                       1.0   \n",
      "3                     0.0                     0.0                       1.0   \n",
      "4                     0.0                     0.0                       1.0   \n",
      "\n",
      "   ocean_proximity_NEAR OCEAN  \n",
      "0                         0.0  \n",
      "1                         0.0  \n",
      "2                         0.0  \n",
      "3                         0.0  \n",
      "4                         0.0  \n",
      "\n",
      "[5 rows x 24 columns]\n",
      "\n",
      "Scaled Target Variable:\n",
      "   target_scaled\n",
      "0       0.020498\n",
      "1       0.060721\n",
      "2       0.013770\n",
      "3       0.069377\n",
      "4       0.057049\n"
     ]
    }
   ],
   "source": [
    "import pandas as pd\n",
    "from sklearn.preprocessing import MinMaxScaler\n",
    "\n",
    "# Assuming 'data' is your DataFrame\n",
    "# Step 1: Separate input features and target variable\n",
    "target_variable = data['price']  # Original target variable'\n",
    "\n",
    "# Step 2: Initialize the Min-Max Scaler\n",
    "scaler = MinMaxScaler()\n",
    "\n",
    "# Step 3: Fit and transform the input features using Min-Max Scaling\n",
    "input_features_scaled = pd.DataFrame(scaler.fit_transform(input_features), columns=input_features.columns)\n",
    "\n",
    "# Step 4: Scale the target variable\n",
    "target_scaled = pd.DataFrame(scaler.fit_transform(target_variable.values.reshape(-1, 1)), columns=['target_scaled'])\n",
    "\n",
    "# Step 5: Display the scaled input features and the scaled target variable\n",
    "print(\"Scaled Input Features:\")\n",
    "print(input_features_scaled.head())  # Show the first few rows of scaled input features\n",
    "\n",
    "print(\"\\nScaled Target Variable:\")\n",
    "print(target_scaled.head())  # Show the first few rows of the scaled target variable\n",
    "\n",
    "# Now you can use both input_features_scaled and target_scaled for model training\n"
   ]
  },
  {
   "cell_type": "code",
   "execution_count": 9,
   "id": "2975f4d3",
   "metadata": {},
   "outputs": [
    {
     "data": {
      "text/plain": [
       "'\\nrange for standard scalar may vary for data set to data set:\\nbut for minmax scalar is always 0 to 1.\\nStandardScaler: Data can have a wide range of values, including below -3 and above 3, \\nespecially if there are outliers. The standardized values do not have a strict minimum or maximum.\\nMinMaxScaler: Rescales data to a fixed range (e.g., [0,1], ensuring all values fall within this range.\\n'"
      ]
     },
     "execution_count": 9,
     "metadata": {},
     "output_type": "execute_result"
    }
   ],
   "source": [
    "\"\"\"\n",
    "range for standard scalar may vary for data set to data set:\n",
    "but for minmax scalar is always 0 to 1.\n",
    "StandardScaler: Data can have a wide range of values, including below -3 and above 3, \n",
    "especially if there are outliers. The standardized values do not have a strict minimum or maximum.\n",
    "MinMaxScaler: Rescales data to a fixed range (e.g., [0,1], ensuring all values fall within this range.\n",
    "\"\"\""
   ]
  },
  {
   "cell_type": "code",
   "execution_count": null,
   "id": "9114d169",
   "metadata": {},
   "outputs": [],
   "source": []
  },
  {
   "cell_type": "code",
   "execution_count": 10,
   "id": "d42afc43",
   "metadata": {},
   "outputs": [
    {
     "name": "stdout",
     "output_type": "stream",
     "text": [
      "Index(['sqft_living', 'sqft_lot', 'floors', 'waterfront', 'view', 'condition',\n",
      "       'grade', 'sqft_above', 'sqft_basement', 'yr_built', 'yr_renovated',\n",
      "       'zipcode', 'lat', 'long', 'sqft_living15', 'sqft_lot15', 'Total_Area',\n",
      "       'House_Age', 'PC1', 'ocean_proximity_<1H OCEAN',\n",
      "       'ocean_proximity_INLAND', 'ocean_proximity_ISLAND',\n",
      "       'ocean_proximity_NEAR BAY', 'ocean_proximity_NEAR OCEAN'],\n",
      "      dtype='object')\n"
     ]
    }
   ],
   "source": [
    "print(input_features.columns)"
   ]
  },
  {
   "cell_type": "markdown",
   "id": "957f01eb",
   "metadata": {},
   "source": [
    "# Linear Regression Model"
   ]
  },
  {
   "cell_type": "code",
   "execution_count": 12,
   "id": "27fa10a9",
   "metadata": {},
   "outputs": [
    {
     "name": "stdout",
     "output_type": "stream",
     "text": [
      "Mean Squared Error (MSE): 34118385345.66\n",
      "Root Mean Squared Error (RMSE): 184711.63\n",
      "Mean Absolute Error (MAE): 2809.34\n",
      "R² Score: -13106062815666.29\n",
      "Mean Absolute Percentage Error (MAPE): 5224688.07%\n",
      "Predicted House Price: $727481.08\n"
     ]
    }
   ],
   "source": [
    "# Import necessary libraries\n",
    "import pandas as pd\n",
    "import numpy as np\n",
    "from sklearn.model_selection import train_test_split\n",
    "from sklearn.linear_model import LinearRegression\n",
    "from sklearn.metrics import mean_squared_error, mean_absolute_error, r2_score\n",
    "\n",
    "# Assuming input_features_scaled and target_scaled are already defined and preprocessed\n",
    "# Split data into training and testing sets\n",
    "X_train, X_test, y_train, y_test = train_test_split(input_features_scaled, target_scaled, test_size=0.2, random_state=42)\n",
    "\n",
    "# Create a Linear Regression model\n",
    "linear_model = LinearRegression()\n",
    "\n",
    "# Train the model\n",
    "linear_model.fit(X_train, y_train)\n",
    "\n",
    "# Make predictions\n",
    "y_pred = linear_model.predict(X_test)\n",
    "\n",
    "# Evaluate the model using various regression metrics\n",
    "mse = mean_squared_error(y_test, y_pred)\n",
    "rmse = mse ** 0.5\n",
    "mae = mean_absolute_error(y_test, y_pred)\n",
    "r2 = r2_score(y_test, y_pred)\n",
    "\n",
    "# Calculate Mean Absolute Percentage Error (MAPE)\n",
    "def mean_absolute_percentage_error(y_true, y_pred):\n",
    "    y_true, y_pred = np.array(y_true), np.array(y_pred)\n",
    "    return np.mean(np.abs((y_true - y_pred) / y_true)) * 100\n",
    "\n",
    "# Calculate MAPE\n",
    "mape = mean_absolute_percentage_error(y_test, y_pred)\n",
    "\n",
    "# Print evaluation metrics\n",
    "print(f\"Mean Squared Error (MSE): {mse:.2f}\")\n",
    "print(f\"Root Mean Squared Error (RMSE): {rmse:.2f}\")\n",
    "print(f\"Mean Absolute Error (MAE): {mae:.2f}\")\n",
    "print(f\"R² Score: {r2:.2f}\")\n",
    "print(f\"Mean Absolute Percentage Error (MAPE): {mape:.2f}%\")\n",
    "\n",
    "# Function to predict house price using real data input\n",
    "def predict_house_price(input_values):\n",
    "    \"\"\"\n",
    "    This function takes in a list of input feature values and returns the predicted house price.\n",
    "    input_values: A list of feature values in the same order as the input_features list.\n",
    "    \"\"\"\n",
    "    # Create DataFrame from input values with appropriate column names\n",
    "    input_data = pd.DataFrame([input_values], columns=input_features.columns)  # Ensure correct column names\n",
    "    predicted_price_scaled = linear_model.predict(input_data)  # Predict using the Linear Regression model\n",
    "    \n",
    "    # Inverse transform the predicted price to get it back to original scale\n",
    "    predicted_price_actual = scaler.inverse_transform(predicted_price_scaled.reshape(-1, 1))[0][0]\n",
    "    return predicted_price_actual\n",
    "\n",
    "# Example: Predict house price for a new input record\n",
    "new_input_values = [0.17207547169811324, 0.004071868910293493, 0.4, 0.0, 0.0, 0.5, \n",
    "                    0.49999999999999994, 0.206140350877193, 0.08298755186721991, \n",
    "                    0.44347826086956843, 0.9880893300248139, 0.6262626262626441, \n",
    "                    0.9089593051310914, 0.1661129568106361, 0.22216485974875239, \n",
    "                    0.008027118519463005, 0.15420023014959724, 0.5565217391304348, \n",
    "                    0.13353405224584794, 0.0, 0.0, 0.0, 1.0, 0.0]\n",
    "\n",
    "predicted_price = predict_house_price(new_input_values)\n",
    "print(f\"Predicted House Price: ${predicted_price:.2f}\")\n"
   ]
  },
  {
   "cell_type": "code",
   "execution_count": null,
   "id": "d11fb9e8",
   "metadata": {},
   "outputs": [],
   "source": []
  },
  {
   "cell_type": "code",
   "execution_count": 22,
   "id": "b669b3dd",
   "metadata": {},
   "outputs": [
    {
     "name": "stdout",
     "output_type": "stream",
     "text": [
      "0.12603773584905661, 0.002713771603408933, 0.0, 0.0, 0.0, 1.0, 0.49999999999999994, 0.08333333333333333, 0.1887966804979253, 0.5652173913043477, 0.0, 0.681818181818187, 0.5869390381212867, 0.1046511627907023, 0.16537601101359495, 0.004995698116935406, 0.14844649021864212, 0.4347826086956522, 0.1780454029944641, 0.0, 0.0, 0.0, 1.0, 0.0, nan\n"
     ]
    }
   ],
   "source": [
    "# Import necessary libraries\n",
    "import pandas as pd\n",
    "from sklearn.preprocessing import StandardScaler\n",
    "\n",
    "# Assuming input_features_scaled is a DataFrame and target_scaled is a NumPy array\n",
    "# Convert target_scaled to a DataFrame\n",
    "target_scaled_df = pd.DataFrame(target_scaled, columns=['price'])  # Adjust the column name as needed\n",
    "\n",
    "# Merging input_features and target_scaled_df\n",
    "merged_df = pd.concat([input_features_scaled.reset_index(drop=True), target_scaled_df.reset_index(drop=True)], axis=1)\n",
    "\n",
    "# Display the merged DataFrame\n",
    "#print(merged_df.iloc[0])  # to print record 0\n",
    "\n",
    "# Get the specific row\n",
    "row_values = merged_df.iloc[3]\n",
    "\n",
    "# Print the values separated by commas\n",
    "print(', '.join(map(str, row_values)))\n"
   ]
  },
  {
   "cell_type": "code",
   "execution_count": 15,
   "id": "70ea046a",
   "metadata": {},
   "outputs": [
    {
     "name": "stdout",
     "output_type": "stream",
     "text": [
      "Predicted House Price: $727481.08\n",
      "Actual Price of the House is =  538000.0\n"
     ]
    }
   ],
   "source": [
    "new_input_values = [0.17207547169811324, 0.004071868910293493, 0.4, 0.0, 0.0, 0.5, 0.49999999999999994, 0.206140350877193, 0.08298755186721991, 0.44347826086956843, 0.9880893300248139, 0.6262626262626441, 0.9089593051310914, 0.1661129568106361, 0.22216485974875239, 0.008027118519463005, 0.15420023014959724, 0.5565217391304348, 0.1335340522458481, 0.0, 0.0, 0.0, 1.0, 0.0]\n",
    "predicted_price = predict_house_price(new_input_values)\n",
    "print(f\"Predicted House Price: ${predicted_price:.2f}\")\n",
    "print(\"Actual Price of the House is = \",538000.0)"
   ]
  },
  {
   "cell_type": "code",
   "execution_count": 16,
   "id": "623293eb",
   "metadata": {},
   "outputs": [
    {
     "data": {
      "image/png": "[encoded data removed]",
      "text/plain": [
       "<Figure size 640x480 with 1 Axes>"
      ]
     },
     "metadata": {},
     "output_type": "display_data"
    }
   ],
   "source": [
    "import matplotlib.pyplot as plt\n",
    "\n",
    "# Visualize the actual vs predicted house prices for all instances\n",
    "plt.scatter(range(len(y_test)), y_test, color='blue', label='Actual Prices')  # Actual prices\n",
    "plt.scatter(range(len(y_test)), y_pred, color='red', label='Predicted Prices')  # Predicted prices\n",
    "\n",
    "plt.title('Actual vs Predicted House Prices')\n",
    "plt.xlabel('Instance')\n",
    "plt.ylabel('House Price')\n",
    "plt.legend()\n",
    "plt.show()\n"
   ]
  },
  {
   "cell_type": "code",
   "execution_count": 17,
   "id": "6c945416",
   "metadata": {},
   "outputs": [
    {
     "data": {
      "image/png": "[encoded data removed]",
      "text/plain": [
       "<Figure size 1000x600 with 1 Axes>"
      ]
     },
     "metadata": {},
     "output_type": "display_data"
    }
   ],
   "source": [
    "import matplotlib.pyplot as plt\n",
    "import numpy as np\n",
    "\n",
    "# Get predictions for the training data as well\n",
    "y_train_pred = linear_model.predict(X_train)\n",
    "\n",
    "# Combine actual and predicted values from both training and test sets\n",
    "y_actual = np.concatenate([y_train, y_test])\n",
    "y_predicted = np.concatenate([y_train_pred, y_pred])\n",
    "\n",
    "# Create an index range for the total data (train + test)\n",
    "instances = np.arange(len(y_actual))\n",
    "\n",
    "# Visualize the actual vs predicted house prices for both training and test sets\n",
    "plt.figure(figsize=(10, 6))\n",
    "plt.scatter(instances, y_actual, color='blue', label='Actual Prices')  # Actual prices\n",
    "plt.scatter(instances, y_predicted, color='red', label='Predicted Prices')  # Predicted prices\n",
    "\n",
    "plt.title('Actual vs Predicted House Prices (Training + Test)')\n",
    "plt.xlabel('Instance')\n",
    "plt.ylabel('House Price')\n",
    "plt.legend()\n",
    "plt.show()\n"
   ]
  },
  {
   "cell_type": "markdown",
   "id": "de63e963",
   "metadata": {},
   "source": [
    "# 2) KNN Regressor"
   ]
  },
  {
   "cell_type": "code",
   "execution_count": 18,
   "id": "7955fdb7",
   "metadata": {},
   "outputs": [
    {
     "name": "stdout",
     "output_type": "stream",
     "text": [
      "Mean Squared Error (MSE): 0.00\n",
      "Root Mean Squared Error (RMSE): 0.03\n",
      "Mean Absolute Error (MAE): 0.01\n",
      "R² Score: 0.71\n",
      "Mean Absolute Percentage Error (MAPE): 23.77%\n",
      "Predicted House Price: $631444.44\n"
     ]
    }
   ],
   "source": [
    "# Import necessary libraries\n",
    "import pandas as pd\n",
    "import numpy as np\n",
    "from sklearn.model_selection import train_test_split\n",
    "from sklearn.neighbors import KNeighborsRegressor\n",
    "from sklearn.metrics import mean_squared_error, mean_absolute_error, r2_score\n",
    "\n",
    "# Assuming input_features_scaled and target_scaled are already defined and preprocessed\n",
    "# Split data into training and testing sets\n",
    "X_train, X_test, y_train, y_test = train_test_split(input_features_scaled, target_scaled, test_size=0.2, random_state=42)\n",
    "\n",
    "# Create a KNN Regressor model\n",
    "knn_model = KNeighborsRegressor(n_neighbors=9)  # You can adjust n_neighbors as needed\n",
    "\n",
    "# Train the model\n",
    "knn_model.fit(X_train, y_train)\n",
    "\n",
    "# Make predictions\n",
    "y_pred = knn_model.predict(X_test)\n",
    "\n",
    "# Evaluate the model using various regression metrics\n",
    "mse = mean_squared_error(y_test, y_pred)\n",
    "rmse = mse ** 0.5\n",
    "mae = mean_absolute_error(y_test, y_pred)\n",
    "r2 = r2_score(y_test, y_pred)\n",
    "\n",
    "# Calculate Mean Absolute Percentage Error (MAPE)\n",
    "def mean_absolute_percentage_error(y_true, y_pred):\n",
    "    y_true, y_pred = np.array(y_true), np.array(y_pred)\n",
    "    return np.mean(np.abs((y_true - y_pred) / y_true)) * 100\n",
    "\n",
    "# Calculate MAPE\n",
    "mape = mean_absolute_percentage_error(y_test, y_pred)\n",
    "\n",
    "# Print evaluation metrics\n",
    "print(f\"Mean Squared Error (MSE): {mse:.2f}\")\n",
    "print(f\"Root Mean Squared Error (RMSE): {rmse:.2f}\")\n",
    "print(f\"Mean Absolute Error (MAE): {mae:.2f}\")\n",
    "print(f\"R² Score: {r2:.2f}\")\n",
    "print(f\"Mean Absolute Percentage Error (MAPE): {mape:.2f}%\")\n",
    "\n",
    "# Function to predict house price using real data input\n",
    "def predict_house_price(input_values):\n",
    "    \"\"\"\n",
    "    This function takes in a list of input feature values and returns the predicted house price.\n",
    "    input_values: A list of feature values in the same order as the input_features list.\n",
    "    \"\"\"\n",
    "    # Create DataFrame from input values with appropriate column names\n",
    "    input_data = pd.DataFrame([input_values], columns=input_features.columns)  # Ensure correct column names\n",
    "    predicted_price_scaled = knn_model.predict(input_data)  # Predict using the KNN model\n",
    "    \n",
    "    # Inverse transform the predicted price to get it back to original scale\n",
    "    predicted_price_actual = scaler.inverse_transform(predicted_price_scaled.reshape(-1, 1))[0][0]\n",
    "    return predicted_price_actual\n",
    "\n",
    "# Example: Predict house price for a new input record\n",
    "new_input_values = [0.17207547169811324, 0.004071868910293493, 0.4, 0.0, 0.0, 0.5, \n",
    "                    0.49999999999999994, 0.206140350877193, 0.08298755186721991, \n",
    "                    0.44347826086956843, 0.9880893300248139, 0.6262626262626441, \n",
    "                    0.9089593051310914, 0.1661129568106361, 0.22216485974875239, \n",
    "                    0.008027118519463005, 0.15420023014959724, 0.5565217391304348, \n",
    "                    0.13353405224584794, 0.0, 0.0, 0.0, 1.0, 0.0]\n",
    "\n",
    "predicted_price = predict_house_price(new_input_values)\n",
    "print(f\"Predicted House Price: ${predicted_price:.2f}\")\n"
   ]
  },
  {
   "cell_type": "code",
   "execution_count": 19,
   "id": "81f5ee12",
   "metadata": {},
   "outputs": [
    {
     "name": "stdout",
     "output_type": "stream",
     "text": [
      "Predicted House Price: $631444.44\n",
      "Actual Price of the House is =  538000.0\n"
     ]
    }
   ],
   "source": [
    "new_input_values = [0.17207547169811324, 0.004071868910293493, 0.4, 0.0, 0.0, 0.5, 0.49999999999999994, 0.206140350877193, 0.08298755186721991, 0.44347826086956843, 0.9880893300248139, 0.6262626262626441, 0.9089593051310914, 0.1661129568106361, 0.22216485974875239, 0.008027118519463005, 0.15420023014959724, 0.5565217391304348, 0.1335340522458481, 0.0, 0.0, 0.0, 1.0, 0.0]\n",
    "predicted_price = predict_house_price(new_input_values)\n",
    "print(f\"Predicted House Price: ${predicted_price:.2f}\")\n",
    "print(\"Actual Price of the House is = \",538000.0)"
   ]
  },
  {
   "cell_type": "markdown",
   "id": "d4e57bf2",
   "metadata": {},
   "source": [
    "# 3) Decision tree Regressor"
   ]
  },
  {
   "cell_type": "code",
   "execution_count": 20,
   "id": "1d05bb03",
   "metadata": {},
   "outputs": [
    {
     "name": "stdout",
     "output_type": "stream",
     "text": [
      "Mean Squared Error (MSE): 0.00\n",
      "Root Mean Squared Error (RMSE): 0.03\n",
      "Mean Absolute Error (MAE): 0.01\n",
      "R² Score: 0.72\n",
      "Mean Absolute Percentage Error (MAPE): 103.49%\n",
      "Predicted House Price: $538000.00\n"
     ]
    }
   ],
   "source": [
    "# Import necessary libraries\n",
    "import pandas as pd\n",
    "import numpy as np\n",
    "from sklearn.model_selection import train_test_split\n",
    "from sklearn.tree import DecisionTreeRegressor\n",
    "from sklearn.metrics import mean_squared_error, mean_absolute_error, r2_score\n",
    "\n",
    "# Assuming input_features_scaled and target_scaled are already defined and preprocessed\n",
    "# Split data into training and testing sets\n",
    "X_train, X_test, y_train, y_test = train_test_split(input_features_scaled, target_scaled, test_size=0.2, random_state=42)\n",
    "\n",
    "# Create a Decision Tree Regressor model\n",
    "decision_tree_model = DecisionTreeRegressor(random_state=42)\n",
    "\n",
    "# Train the model\n",
    "decision_tree_model.fit(X_train, y_train)\n",
    "\n",
    "# Make predictions\n",
    "y_pred = decision_tree_model.predict(X_test)\n",
    "\n",
    "# Evaluate the model using various regression metrics\n",
    "mse = mean_squared_error(y_test, y_pred)\n",
    "rmse = mse ** 0.5\n",
    "mae = mean_absolute_error(y_test, y_pred)\n",
    "r2 = r2_score(y_test, y_pred)\n",
    "\n",
    "# Calculate Mean Absolute Percentage Error (MAPE)\n",
    "def mean_absolute_percentage_error(y_true, y_pred):\n",
    "    y_true, y_pred = np.array(y_true), np.array(y_pred)\n",
    "    return np.mean(np.abs((y_true - y_pred) / y_true)) * 100\n",
    "\n",
    "# Calculate MAPE\n",
    "mape = mean_absolute_percentage_error(y_test, y_pred)\n",
    "\n",
    "# Print evaluation metrics\n",
    "print(f\"Mean Squared Error (MSE): {mse:.2f}\")\n",
    "print(f\"Root Mean Squared Error (RMSE): {rmse:.2f}\")\n",
    "print(f\"Mean Absolute Error (MAE): {mae:.2f}\")\n",
    "print(f\"R² Score: {r2:.2f}\")\n",
    "print(f\"Mean Absolute Percentage Error (MAPE): {mape:.2f}%\")\n",
    "\n",
    "# Function to predict house price using real data input\n",
    "def predict_house_price(input_values):\n",
    "    \"\"\"\n",
    "    This function takes in a list of input feature values and returns the predicted house price.\n",
    "    input_values: A list of feature values in the same order as the input_features list.\n",
    "    \"\"\"\n",
    "    # Create DataFrame from input values with appropriate column names\n",
    "    input_data = pd.DataFrame([input_values], columns=input_features.columns)  # Ensure correct column names\n",
    "    predicted_price_scaled = decision_tree_model.predict(input_data)  # Predict using the Decision Tree model\n",
    "    \n",
    "    # Inverse transform the predicted price to get it back to original scale\n",
    "    predicted_price_actual = scaler.inverse_transform(predicted_price_scaled.reshape(-1, 1))[0][0]\n",
    "    return predicted_price_actual\n",
    "\n",
    "# Example: Predict house price for a new input record\n",
    "new_input_values = [0.17207547169811324, 0.004071868910293493, 0.4, 0.0, 0.0, 0.5, \n",
    "                    0.49999999999999994, 0.206140350877193, 0.08298755186721991, \n",
    "                    0.44347826086956843, 0.9880893300248139, 0.6262626262626441, \n",
    "                    0.9089593051310914, 0.1661129568106361, 0.22216485974875239, \n",
    "                    0.008027118519463005, 0.15420023014959724, 0.5565217391304348, \n",
    "                    0.13353405224584794, 0.0, 0.0, 0.0, 1.0, 0.0]\n",
    "\n",
    "predicted_price = predict_house_price(new_input_values)\n",
    "print(f\"Predicted House Price: ${predicted_price:.2f}\")\n"
   ]
  },
  {
   "cell_type": "code",
   "execution_count": 21,
   "id": "715ad8e6",
   "metadata": {},
   "outputs": [
    {
     "name": "stdout",
     "output_type": "stream",
     "text": [
      "Predicted House Price: $538000.00\n",
      "Actual Price of the House is =  538000.0\n"
     ]
    }
   ],
   "source": [
    "new_input_values = [0.17207547169811324, 0.004071868910293493, 0.4, 0.0, 0.0, 0.5, 0.49999999999999994, 0.206140350877193, 0.08298755186721991, 0.44347826086956843, 0.9880893300248139, 0.6262626262626441, 0.9089593051310914, 0.1661129568106361, 0.22216485974875239, 0.008027118519463005, 0.15420023014959724, 0.5565217391304348, 0.1335340522458481, 0.0, 0.0, 0.0, 1.0, 0.0]\n",
    "predicted_price = predict_house_price(new_input_values)\n",
    "print(f\"Predicted House Price: ${predicted_price:.2f}\")\n",
    "print(\"Actual Price of the House is = \",538000.0)"
   ]
  },
  {
   "cell_type": "markdown",
   "id": "3e97e000",
   "metadata": {},
   "source": [
    "# 4) Polynomial Regression"
   ]
  },
  {
   "cell_type": "code",
   "execution_count": 281,
   "id": "8ac6b96a",
   "metadata": {},
   "outputs": [
    {
     "name": "stdout",
     "output_type": "stream",
     "text": [
      "Mean Squared Error (MSE): 3971851792024332.50\n",
      "Root Mean Squared Error (RMSE): 63022629.21\n",
      "Mean Absolute Error (MAE): 1214955.86\n",
      "R² Score: -1525726922695831808.00\n",
      "Mean Absolute Percentage Error (MAPE): 3652440386.66%\n",
      "Predicted House Price: $631444.44\n"
     ]
    }
   ],
   "source": [
    "# Import necessary libraries\n",
    "import pandas as pd\n",
    "import numpy as np\n",
    "from sklearn.model_selection import train_test_split\n",
    "from sklearn.preprocessing import PolynomialFeatures\n",
    "from sklearn.linear_model import LinearRegression\n",
    "from sklearn.metrics import mean_squared_error, mean_absolute_error, r2_score\n",
    "\n",
    "# Assuming input_features_scaled and target_scaled are already defined and preprocessed\n",
    "\n",
    "# Split data into training and testing sets\n",
    "X_train, X_test, y_train, y_test = train_test_split(input_features_scaled, target_scaled, test_size=0.2, random_state=42)\n",
    "\n",
    "# Set the polynomial degree\n",
    "degree = 2  # You can change this value to try different polynomial degrees\n",
    "\n",
    "# Create polynomial features\n",
    "poly = PolynomialFeatures(degree=degree)\n",
    "X_train_poly = poly.fit_transform(X_train)\n",
    "X_test_poly = poly.transform(X_test)\n",
    "\n",
    "# Create a Linear Regression model\n",
    "polynomial_model = LinearRegression()\n",
    "\n",
    "# Train the model\n",
    "polynomial_model.fit(X_train_poly, y_train)\n",
    "\n",
    "# Make predictions\n",
    "y_pred = polynomial_model.predict(X_test_poly)\n",
    "\n",
    "# Evaluate the model using various regression metrics\n",
    "mse = mean_squared_error(y_test, y_pred)\n",
    "rmse = mse ** 0.5\n",
    "mae = mean_absolute_error(y_test, y_pred)\n",
    "r2 = r2_score(y_test, y_pred)\n",
    "\n",
    "# Calculate Mean Absolute Percentage Error (MAPE)\n",
    "def mean_absolute_percentage_error(y_true, y_pred):\n",
    "    y_true, y_pred = np.array(y_true), np.array(y_pred)\n",
    "    return np.mean(np.abs((y_true - y_pred) / y_true)) * 100\n",
    "\n",
    "# Calculate MAPE\n",
    "mape = mean_absolute_percentage_error(y_test, y_pred)\n",
    "\n",
    "# Print evaluation metrics\n",
    "print(f\"Mean Squared Error (MSE): {mse:.2f}\")\n",
    "print(f\"Root Mean Squared Error (RMSE): {rmse:.2f}\")\n",
    "print(f\"Mean Absolute Error (MAE): {mae:.2f}\")\n",
    "print(f\"R² Score: {r2:.2f}\")\n",
    "print(f\"Mean Absolute Percentage Error (MAPE): {mape:.2f}%\")\n",
    "\n",
    "# Function to predict house price using real data input\n",
    "def predict_house_price(input_values):\n",
    "    \"\"\"\n",
    "    This function takes in a list of input feature values and returns the predicted house price.\n",
    "    input_values: A list of feature values in the same order as the input_features list.\n",
    "    \"\"\"\n",
    "    # Create DataFrame from input values with appropriate column names\n",
    "    input_data = pd.DataFrame([input_values], columns=input_features.columns)  # Ensure correct column names\n",
    "    predicted_price_scaled = knn_model.predict(input_data)  # Predict using the KNN model\n",
    "    \n",
    "    # Inverse transform the predicted price to get it back to original scale\n",
    "    predicted_price_actual = scaler.inverse_transform(predicted_price_scaled.reshape(-1, 1))[0][0]\n",
    "    return predicted_price_actual\n",
    "\n",
    "# Example: Predict house price for a new input record\n",
    "new_input_values = [0.17207547169811324, 0.004071868910293493, 0.4, 0.0, 0.0, 0.5, \n",
    "                    0.49999999999999994, 0.206140350877193, 0.08298755186721991, \n",
    "                    0.44347826086956843, 0.9880893300248139, 0.6262626262626441, \n",
    "                    0.9089593051310914, 0.1661129568106361, 0.22216485974875239, \n",
    "                    0.008027118519463005, 0.15420023014959724, 0.5565217391304348, \n",
    "                    0.13353405224584794, 0.0, 0.0, 0.0, 1.0, 0.0]\n",
    "\n",
    "predicted_price = predict_house_price(new_input_values)\n",
    "print(f\"Predicted House Price: ${predicted_price:.2f}\")"
   ]
  },
  {
   "cell_type": "code",
   "execution_count": 282,
   "id": "7f5fd3a6",
   "metadata": {},
   "outputs": [
    {
     "name": "stdout",
     "output_type": "stream",
     "text": [
      "Predicted House Price: $631444.44\n",
      "Actual Price of the House is =  538000.0\n"
     ]
    }
   ],
   "source": [
    "new_input_values = [0.17207547169811324, 0.004071868910293493, 0.4, 0.0, 0.0, 0.5, 0.49999999999999994, 0.206140350877193, 0.08298755186721991, 0.44347826086956843, 0.9880893300248139, 0.6262626262626441, 0.9089593051310914, 0.1661129568106361, 0.22216485974875239, 0.008027118519463005, 0.15420023014959724, 0.5565217391304348, 0.1335340522458481, 0.0, 0.0, 0.0, 1.0, 0.0]\n",
    "predicted_price = predict_house_price(new_input_values)\n",
    "print(f\"Predicted House Price: ${predicted_price:.2f}\")\n",
    "print(\"Actual Price of the House is = \",538000.0)"
   ]
  },
  {
   "cell_type": "code",
   "execution_count": 288,
   "id": "0ec1487e",
   "metadata": {},
   "outputs": [
    {
     "data": {
      "image/png": "[encoded data removed]",
      "text/plain": [
       "<Figure size 1000x600 with 1 Axes>"
      ]
     },
     "metadata": {},
     "output_type": "display_data"
    }
   ],
   "source": [
    "import matplotlib.pyplot as plt\n",
    "import numpy as np\n",
    "\n",
    "# Get predictions for the entire dataset using the polynomial model\n",
    "# Combine training and test sets\n",
    "X_combined = np.vstack((X_train_poly, X_test_poly))  # Combine training and test features\n",
    "y_combined = np.concatenate([y_train, y_test])  # Combine actual values for both sets\n",
    "\n",
    "# Get predictions for the combined dataset\n",
    "y_combined_pred = polynomial_model.predict(X_combined)\n",
    "\n",
    "# Create an index range for the total data (all instances)\n",
    "instances = np.arange(len(y_combined))\n",
    "\n",
    "# Visualize the actual vs predicted house prices for all instances\n",
    "plt.figure(figsize=(10, 6))\n",
    "plt.scatter(instances, y_combined, color='blue', label='Actual Prices')   # Actual prices\n",
    "plt.scatter(instances, y_combined_pred, color='red', label='Predicted Prices', alpha=0.6)  # Predicted prices\n",
    "\n",
    "plt.title('Actual vs Predicted House Prices (All Instances)')\n",
    "plt.xlabel('Instance')\n",
    "plt.ylabel('House Price')\n",
    "plt.legend()\n",
    "plt.grid(True)  # Optional: Add a grid for better readability\n",
    "plt.tight_layout()  # Adjust layout for better appearance\n",
    "plt.show()\n"
   ]
  }
 ],
 "metadata": {
  "kernelspec": {
   "display_name": "Python 3 (ipykernel)",
   "language": "python",
   "name": "python3"
  },
  "language_info": {
   "codemirror_mode": {
    "name": "ipython",
    "version": 3
   },
   "file_extension": ".py",
   "mimetype": "text/x-python",
   "name": "python",
   "nbconvert_exporter": "python",
   "pygments_lexer": "ipython3",
   "version": "3.13.0"
  }
 },
 "nbformat": 4,
 "nbformat_minor": 5
}
